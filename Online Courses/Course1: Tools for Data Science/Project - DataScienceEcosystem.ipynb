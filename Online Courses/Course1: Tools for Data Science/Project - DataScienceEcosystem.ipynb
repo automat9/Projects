{
 "cells": [
  {
   "cell_type": "markdown",
   "id": "a1d4dc60-b8f9-4e7e-92d1-0dd7f5dca896",
   "metadata": {},
   "source": [
    "# Data Science Tools and Ecosystem # "
   ]
  },
  {
   "cell_type": "markdown",
   "id": "b43b0292-1df2-467f-8664-d922ea15bcdf",
   "metadata": {},
   "source": [
    "In this notebook, Data Science Tools and Ecosystem are summarized. "
   ]
  },
  {
   "cell_type": "markdown",
   "id": "3d94cd01-67df-48c9-9c71-7cfc47309a29",
   "metadata": {},
   "source": [
    "**Objectives:**\n",
    "- List popular languages for Data Science\n",
    "- List popular libraries for Data Science\n",
    "- List popular Data Science Tools\n",
    "- Provide a few examples of evaluating arithmetic expressions"
   ]
  },
  {
   "cell_type": "markdown",
   "id": "8f9d89af-b41b-4a9d-af5b-ac580b69c7ea",
   "metadata": {},
   "source": [
    "Some of the popular languages that Data Scientists use are:\n",
    "1. Python\n",
    "2. R.\n",
    "3. SQL"
   ]
  },
  {
   "cell_type": "markdown",
   "id": "5ea672ee-29c6-41ae-a2c9-918d710b01a4",
   "metadata": {},
   "source": [
    "Some of the commonly used libraries used by Data Scientists include:\n",
    "1. Pandas\n",
    "2. Plotly\n",
    "3. Tensorflow"
   ]
  },
  {
   "cell_type": "markdown",
   "id": "996f2248-3765-4682-8a6f-5c400ce5db80",
   "metadata": {},
   "source": [
    "|*Data Science Tools*|\n",
    "------------------\n",
    "| ggplot2 |\n",
    "| Hadoop |\n",
    "| Weka | "
   ]
  },
  {
   "cell_type": "markdown",
   "id": "163e5bdb-daaa-4d95-9c0a-0fda13717c21",
   "metadata": {},
   "source": [
    "### Below are a few examples of evaluating arithmetic expressions in Python ###"
   ]
  },
  {
   "cell_type": "code",
   "execution_count": 2,
   "id": "405f6296-9f32-4c88-840d-7b47d2dec2fe",
   "metadata": {
    "tags": []
   },
   "outputs": [
    {
     "data": {
      "text/plain": [
       "17"
      ]
     },
     "execution_count": 2,
     "metadata": {},
     "output_type": "execute_result"
    }
   ],
   "source": [
    "#  This a simple arithmetic expression to mutiply then add integers\n",
    "(3*4)+5"
   ]
  },
  {
   "cell_type": "code",
   "execution_count": 5,
   "id": "1d6ab05e-20f1-427f-98f1-76625a04f0f0",
   "metadata": {
    "tags": []
   },
   "outputs": [
    {
     "data": {
      "text/plain": [
       "3.3333333333333335"
      ]
     },
     "execution_count": 5,
     "metadata": {},
     "output_type": "execute_result"
    }
   ],
   "source": [
    " # This will convert 200 minutes to hours by diving by 60\n",
    "200/60"
   ]
  },
  {
   "cell_type": "markdown",
   "id": "b425a4f4-c72f-40bc-9874-1bbc30e5ed9f",
   "metadata": {},
   "source": [
    "## Author  ##\n",
    "Mateusz Pawlaczyk"
   ]
  },
  {
   "cell_type": "code",
   "execution_count": null,
   "id": "881a73b5-e3b9-4e93-9f54-00004a7457a8",
   "metadata": {},
   "outputs": [],
   "source": []
  }
 ],
 "metadata": {
  "kernelspec": {
   "display_name": "Python",
   "language": "python",
   "name": "conda-env-python-py"
  },
  "language_info": {
   "codemirror_mode": {
    "name": "ipython",
    "version": 3
   },
   "file_extension": ".py",
   "mimetype": "text/x-python",
   "name": "python",
   "nbconvert_exporter": "python",
   "pygments_lexer": "ipython3",
   "version": "3.7.12"
  }
 },
 "nbformat": 4,
 "nbformat_minor": 5
}
