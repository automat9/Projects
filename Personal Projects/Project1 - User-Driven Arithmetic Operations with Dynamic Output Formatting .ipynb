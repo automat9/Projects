{
 "cells": [
  {
   "cell_type": "markdown",
   "id": "57684f11",
   "metadata": {},
   "source": [
    "#  User-Driven Arithmetic Operations with Dynamic Output Formatting"
   ]
  },
  {
   "cell_type": "code",
   "execution_count": 9,
   "id": "22477933",
   "metadata": {
    "scrolled": true
   },
   "outputs": [
    {
     "name": "stdout",
     "output_type": "stream",
     "text": [
      "Choose an operation: multiply, divide, add, subtract: test\n",
      "Invalid choice. Please select a valid operation.\n",
      "Choose an operation: multiply, divide, add, subtract: multiply\n",
      "You chose to multiply.\n",
      "How many numbers would you like to multiply: 4\n",
      "Enter the number to multiply by: 3.5\n",
      "1 * 3.5 = 3.5\n",
      "2 * 3.5 = 7.0\n",
      "3 * 3.5 = 10.5\n",
      "4 * 3.5 = 14.0\n"
     ]
    }
   ],
   "source": [
    "# Pre-defined list of operations\n",
    "operations = [\"multiply\", \"divide\", \"add\", \"subtract\"]\n",
    "\n",
    "# Map operations to their respective symbols\n",
    "operation_symbols = {\n",
    "    \"multiply\": \"*\",\n",
    "    \"divide\": \"/\",\n",
    "    \"add\": \"+\",\n",
    "    \"subtract\": \"-\"\n",
    "}\n",
    "\n",
    "while True:\n",
    "    # Ask the user to choose an operation\n",
    "    choice = input(\"Choose an operation: multiply, divide, add, subtract: \").lower()\n",
    "\n",
    "    if choice in operations:\n",
    "        print(f\"You chose to {choice}.\")\n",
    "        break\n",
    "    else:\n",
    "        print(\"Invalid choice. Please select a valid operation.\")\n",
    "\n",
    "x = int(input(f\"How many numbers would you like to {choice}: \"))\n",
    "y = float(input(f\"Enter the number to {choice} by: \"))\n",
    "\n",
    "result_list = []\n",
    "symbol = operation_symbols[choice]  # Get the symbol for the chosen operation\n",
    "\n",
    "for i in range(1, x + 1):\n",
    "    if choice == \"multiply\":\n",
    "        result = i * y\n",
    "    elif choice == \"divide\":\n",
    "        result = i / y\n",
    "    elif choice == \"add\":\n",
    "        result = i + y\n",
    "    elif choice == \"subtract\":\n",
    "        result = i - y\n",
    "    result_list.append(f\"{i} {symbol} {y} = {result}\")\n",
    "\n",
    "# Print the results\n",
    "for item in result_list:\n",
    "    print(item)"
   ]
  },
  {
   "cell_type": "code",
   "execution_count": null,
   "id": "0425750d",
   "metadata": {},
   "outputs": [],
   "source": []
  }
 ],
 "metadata": {
  "kernelspec": {
   "display_name": "Python 3 (ipykernel)",
   "language": "python",
   "name": "python3"
  },
  "language_info": {
   "codemirror_mode": {
    "name": "ipython",
    "version": 3
   },
   "file_extension": ".py",
   "mimetype": "text/x-python",
   "name": "python",
   "nbconvert_exporter": "python",
   "pygments_lexer": "ipython3",
   "version": "3.11.7"
  }
 },
 "nbformat": 4,
 "nbformat_minor": 5
}
