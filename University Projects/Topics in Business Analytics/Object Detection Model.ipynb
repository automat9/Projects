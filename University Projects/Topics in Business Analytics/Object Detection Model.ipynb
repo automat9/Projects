{
 "cells": [
  {
   "cell_type": "code",
   "execution_count": null,
   "id": "ab643051",
   "metadata": {},
   "outputs": [],
   "source": [
    "#!git --version\n",
    "#!pip install opencv-python\n",
    "\n",
    "\n",
    "#!pip install backports.functools_lru_cache\n",
    "\n",
    "# to visualise training in real time\n",
    "#!pip install tensorboard\n",
    "\n",
    "\n",
    "# For CUDA 11.8, install PyTorch with CUDA support\n",
    "#!pip install torch torchvision torchaudio --index-url https://download.pytorch.org/whl/cu118"
   ]
  },
  {
   "cell_type": "code",
   "execution_count": null,
   "id": "5e7812ea",
   "metadata": {},
   "outputs": [],
   "source": [
    "# Import and verify PyTorch installation\n",
    "import torch\n",
    "print(f\"PyTorch version: {torch.__version__}\")\n",
    "print(f\"CUDA available: {torch.cuda.is_available()}\")\n",
    "\n",
    "# Verify YOLOv5 installation by loading the model\n",
    "from yolov5 import utils\n",
    "print(\"YOLOv5 installation successful!\")\n",
    "\n"
   ]
  },
  {
   "cell_type": "code",
   "execution_count": null,
   "id": "65e2b9cd",
   "metadata": {},
   "outputs": [],
   "source": [
    "# for debugging\n",
    "import os\n",
    "os.environ[\"KMP_DUPLICATE_LIB_OK\"] = \"TRUE\"\n",
    "os.environ[\"COMET_MODE\"] = \"DISABLED\"\n"
   ]
  },
  {
   "cell_type": "code",
   "execution_count": null,
   "id": "8dc58bc3",
   "metadata": {},
   "outputs": [],
   "source": [
    "# Test Run\n",
    "# Navigate to the yolov5 directory\n",
    "%cd yolov5\n",
    "# Train using the following syntax and config\n",
    "!python train.py --img 640 --batch 8 --epochs 50 --data \"C:/Users/mp967/OneDrive - University of Exeter/Exeter University/Units/Topics in Business Analytics/dataset/data.yaml\" --weights yolov5s.pt --device cpu --name hi_vis_detector_cpu\n",
    "\n",
    "# Result: Interrupted kernel after 1st epoch, code is working but way too slow"
   ]
  },
  {
   "cell_type": "code",
   "execution_count": null,
   "id": "68649247",
   "metadata": {},
   "outputs": [],
   "source": [
    "# First Run\n",
    "%cd yolov5\n",
    "# This time --device 0 (using GPU instead of CPU)\n",
    "!python train.py --img 640 --batch 8 --epochs 50 --data \"C:/Users/10/OneDrive - University of Exeter/Exeter University/Units/Topics in Business Analytics/dataset/data.yaml\" --weights yolov5s.pt --device 0 --name first_run\n",
    "\n",
    "# Result: Success"
   ]
  },
  {
   "cell_type": "code",
   "execution_count": null,
   "id": "d098e824",
   "metadata": {
    "scrolled": true
   },
   "outputs": [],
   "source": [
    "# Second Run\n",
    "%cd yolov5\n",
    "# 10x more epochs to increase performance, --noplots to reduce the volume of logs sent to the notebook\n",
    "!python train.py --img 640 --batch 8 --epochs 500 --data \"C:/Users/10/OneDrive - University of Exeter/Exeter University/Units/Topics in Business Analytics/dataset/data.yaml\" --weights \"C:/Users/10/OneDrive - University of Exeter/yolov5/runs/train/first_run/weights/best.pt\" --device 0 --name second_run --noplots\n",
    "\n",
    "# Result: Fail, stopped at 100 epochs due to yolov5's patience (by default, the script automatically stops if performance stops improving for several epochs)\n",
    "# Why not improving? Overfitting, poor "
   ]
  },
  {
   "cell_type": "code",
   "execution_count": null,
   "id": "c7f483e9",
   "metadata": {},
   "outputs": [],
   "source": [
    "# Third Run\n",
    "%cd yolov5\n",
    "# Using yolov5 large model on 50 epochs and reduced batch size\n",
    "!python train.py --img 640 --batch 6 --epochs 50 --data \"C:/Users/10/OneDrive - University of Exeter/Exeter University/Units/Topics in Business Analytics/dataset/data.yaml\" --weights yolov5l.pt --device 0 --name third_run \n",
    "\n",
    "# Result: Success, time needed = approx. 6h, accuracy not as high as expected but indeed better than in second run"
   ]
  },
  {
   "cell_type": "code",
   "execution_count": null,
   "id": "620804f7",
   "metadata": {
    "scrolled": true
   },
   "outputs": [],
   "source": [
    "# Import pandas and matplotlib\n",
    "import pandas as pd\n",
    "import matplotlib.pyplot as plt\n",
    "\n",
    "# Load the metadata\n",
    "data = pd.read_csv(\"https://raw.githubusercontent.com/automat9/Business-Analytics/refs/heads/master/Semester%201/Topics%20in%20Business%20Analytics/runs/results/2results.csv\")\n",
    "\n",
    "# Remove white space from column names\n",
    "data.columns = data.columns.str.strip()\n",
    "\n",
    "# Plot config\n",
    "plt.figure(figsize=(10, 5))\n",
    "plt.plot(data[\"metrics/mAP_0.5:0.95\"], label=\"mAP_0.5:0.95\")\n",
    "plt.xlabel(\"epoch\")\n",
    "plt.ylabel(\"mAP\")\n",
    "plt.grid(True, alpha=1)\n",
    "plt.title(\"mAP_0.5:0.95 for Second Run\")\n",
    "plt.legend()\n",
    "\n",
    "# Show the plot\n",
    "plt.show()\n",
    "\n"
   ]
  },
  {
   "cell_type": "code",
   "execution_count": null,
   "id": "3adc6552",
   "metadata": {},
   "outputs": [],
   "source": []
  },
  {
   "cell_type": "code",
   "execution_count": null,
   "id": "e2b1e264",
   "metadata": {
    "scrolled": true
   },
   "outputs": [],
   "source": []
  },
  {
   "cell_type": "code",
   "execution_count": null,
   "id": "c819f008",
   "metadata": {},
   "outputs": [],
   "source": [
    "# Import pandas\n",
    "import pandas as pd\n",
    "\n",
    "# Load the metadata\n",
    "data = pd.read_csv(\"https://raw.githubusercontent.com/automat9/Business-Analytics/refs/heads/master/Semester%201/Topics%20in%20Business%20Analytics/runs/results/results_metadata.csv\")\n",
    "\n",
    "# Remove white space from column names\n",
    "data.columns = data.columns.str.strip()\n",
    "\n",
    "# Sort columns for each run\n",
    "first_stats = data[[\"first/mAP_0.5\", \"first/mAP_0.5:0.95\"]].describe()\n",
    "second_stats = data[[\"second/mAP_0.5\", \"second/mAP_0.5:0.95\"]].describe()\n",
    "third_stats = data[[\"third/mAP_0.5\", \"third/mAP_0.5:0.95\"]].describe()\n",
    "\n",
    "# Display the statistics\n",
    "print(\"Descriptive Statistics for First Run:\")\n",
    "print(first_stats)\n",
    "\n",
    "print(\"Descriptive Statistics for Second Run:\")\n",
    "print(second_stats)\n",
    "\n",
    "print(\"Descriptive Statistics for Third Run:\")\n",
    "print(third_stats)"
   ]
  },
  {
   "cell_type": "code",
   "execution_count": 8,
   "id": "730477d1",
   "metadata": {},
   "outputs": [
    {
     "name": "stdout",
     "output_type": "stream",
     "text": [
      "First Run:\n",
      "       first/mAP_0.5  first/mAP_0.5:0.95\n",
      "count      50.000000           50.000000\n",
      "mean        0.672929            0.368914\n",
      "std         0.052689            0.049069\n",
      "min         0.445690            0.207440\n",
      "25%         0.679142            0.361355\n",
      "50%         0.687740            0.390985\n",
      "75%         0.697310            0.399720\n",
      "max         0.708650            0.413040\n",
      "Second Run:\n",
      "       second/mAP_0.5  second/mAP_0.5:0.95\n",
      "count      101.000000           101.000000\n",
      "mean         0.654837             0.364987\n",
      "std          0.021346             0.012086\n",
      "min          0.573300             0.317960\n",
      "25%          0.639870             0.358100\n",
      "50%          0.652820             0.364940\n",
      "75%          0.669250             0.372450\n",
      "max          0.717520             0.406010\n",
      "Third Run:\n",
      "       third/mAP_0.5  third/mAP_0.5:0.95\n",
      "count      50.000000           50.000000\n",
      "mean        0.663819            0.377881\n",
      "std         0.045529            0.039858\n",
      "min         0.414000            0.194210\n",
      "25%         0.651232            0.374265\n",
      "50%         0.667870            0.389320\n",
      "75%         0.689890            0.397760\n",
      "max         0.716640            0.418160\n"
     ]
    }
   ],
   "source": [
    "# Import pandas\n",
    "import pandas as pd\n",
    "\n",
    "# Load the metadata and remove white space from column names\n",
    "data = pd.read_csv(\"https://raw.githubusercontent.com/automat9/Business-Analytics/refs/heads/master/Semester%201/Topics%20in%20Business%20Analytics/runs/results/results_metadata.csv\")\n",
    "data.columns = data.columns.str.strip()\n",
    "\n",
    "# Sort columns for each run\n",
    "first = data[[\"first/mAP_0.5\", \"first/mAP_0.5:0.95\"]].describe()\n",
    "second = data[[\"second/mAP_0.5\", \"second/mAP_0.5:0.95\"]].describe()\n",
    "third = data[[\"third/mAP_0.5\", \"third/mAP_0.5:0.95\"]].describe()\n",
    "\n",
    "# Display the statistics\n",
    "print(\"First Run:\")\n",
    "print(first)\n",
    "\n",
    "print(\"Second Run:\")\n",
    "print(second)\n",
    "\n",
    "print(\"Third Run:\")\n",
    "print(third)"
   ]
  }
 ],
 "metadata": {
  "kernelspec": {
   "display_name": "Python 3 (ipykernel)",
   "language": "python",
   "name": "python3"
  },
  "language_info": {
   "codemirror_mode": {
    "name": "ipython",
    "version": 3
   },
   "file_extension": ".py",
   "mimetype": "text/x-python",
   "name": "python",
   "nbconvert_exporter": "python",
   "pygments_lexer": "ipython3",
   "version": "3.11.4"
  }
 },
 "nbformat": 4,
 "nbformat_minor": 5
}
